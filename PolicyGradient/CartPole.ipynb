{
 "cells": [
  {
   "cell_type": "code",
   "execution_count": 12,
   "metadata": {},
   "outputs": [],
   "source": [
    "import numpy as np\n",
    "import gym\n",
    "from keras.layers import Input, Dense, Lambda\n",
    "from keras.models import Model\n",
    "from keras.optimizers import Adam\n",
    "import keras.backend as K\n",
    "import math\n",
    "import time\n",
    "import matplotlib.pyplot as plt\n",
    "import tensorflow as tf"
   ]
  },
  {
   "cell_type": "code",
   "execution_count": 13,
   "metadata": {},
   "outputs": [],
   "source": [
    "learning_rate=0.01\n",
    "done_reward = 0\n",
    "n_max_episodes = 1000\n",
    "n_max_steps = 10000\n",
    "gamma = 0.95\n",
    "epsilon = 0.0001"
   ]
  },
  {
   "cell_type": "code",
   "execution_count": 14,
   "metadata": {
    "scrolled": true
   },
   "outputs": [
    {
     "name": "stderr",
     "output_type": "stream",
     "text": [
      "c:\\users\\zhchxiao\\anaconda3\\envs\\pytorch\\lib\\site-packages\\gym\\envs\\registration.py:14: PkgResourcesDeprecationWarning: Parameters to load are deprecated.  Call .resolve and .require separately.\n",
      "  result = entry_point.load(False)\n"
     ]
    }
   ],
   "source": [
    "env = gym.make(\"CartPole-v0\")\n",
    "n_action_space = env.action_space.n"
   ]
  },
  {
   "cell_type": "code",
   "execution_count": 23,
   "metadata": {},
   "outputs": [],
   "source": [
    "def lossFunction(y_true, y_pred):\n",
    "    return - K.log(y_pred[0]) * y_pred[1] - y_true"
   ]
  },
  {
   "cell_type": "code",
   "execution_count": 24,
   "metadata": {},
   "outputs": [],
   "source": [
    "def buildModel():\n",
    "    input = Input(shape=[4])\n",
    "    x = Dense(32, activation='relu')(input)\n",
    "    x = Dense(16, activation='relu')(x)\n",
    "    output = Dense(n_action_space, activation='softmax')(x)\n",
    "    \n",
    "    model = Model(inputs=input, outputs=output)\n",
    "    model.compile(loss=lossFunction, optimizer=Adam(lr=learning_rate))\n",
    "    return model\n",
    "\n",
    "\n",
    "def discountReward(rewards):\n",
    "    discount_rewards = np.zeros_like(rewards, dtype=np.float32)\n",
    "    cumulative = 0.\n",
    "    for i in reversed(range(len(rewards))):\n",
    "        cumulative = cumulative * gamma + rewards[i]\n",
    "        discount_rewards[i] = cumulative\n",
    "        \n",
    "    discount_rewards_mean = np.mean(discount_rewards)\n",
    "    discount_rewards_std = np.std(discount_rewards)\n",
    "    discount_rewards = (discount_rewards - discount_rewards_mean) / discount_rewards_std\n",
    "    return discount_rewards\n",
    "\n",
    "\n",
    "model = buildModel()"
   ]
  },
  {
   "cell_type": "code",
   "execution_count": 25,
   "metadata": {},
   "outputs": [
    {
     "name": "stdout",
     "output_type": "stream",
     "text": [
      "_________________________________________________________________\n",
      "Layer (type)                 Output Shape              Param #   \n",
      "=================================================================\n",
      "input_6 (InputLayer)         (None, 4)                 0         \n",
      "_________________________________________________________________\n",
      "dense_15 (Dense)             (None, 32)                160       \n",
      "_________________________________________________________________\n",
      "dense_16 (Dense)             (None, 16)                528       \n",
      "_________________________________________________________________\n",
      "dense_17 (Dense)             (None, 2)                 34        \n",
      "=================================================================\n",
      "Total params: 722\n",
      "Trainable params: 722\n",
      "Non-trainable params: 0\n",
      "_________________________________________________________________\n"
     ]
    }
   ],
   "source": [
    "model.summary()"
   ]
  },
  {
   "cell_type": "code",
   "execution_count": null,
   "metadata": {},
   "outputs": [],
   "source": [
    "episode_rewards = []\n",
    "average_episode_rewards = []\n",
    "total_step = []\n",
    "start_time = time.time()\n",
    "\n",
    "for episode in range(n_max_episodes):\n",
    "    rewards = []\n",
    "    states = []\n",
    "    actions = []\n",
    "    state = env.reset()\n",
    "    state = state.reshape(-1. 4)\n",
    "    for step in range(n_max_steps):\n",
    "        prob_action = model.predict(state)\n",
    "        action = np.random.choice(np.array(range(n_action_space)), size=1, p=prob_action.revel())\n",
    "        next_state, reward, done, _ = env.step(action[0])\n",
    "        \n",
    "        next_state = next_state.reshape(-1, 4)\n",
    "        states.append(state)\n",
    "        rewards.append(reward)\n",
    "        actions.append(prob_action)\n",
    "        state = next_state\n",
    "        if done:\n",
    "            break\n",
    "    episode_reward = sum(rewards)\n",
    "    episode_rewards.append(episode_reward)\n",
    "    states = np.array(states).reshape(-1, 4)\n",
    "    discount_rewards = discountReward(rewards).reshape(-1, 1)\n",
    "    actions = np.array(actions), reshape(-1, 1)\n",
    "    \n",
    "    X = [state, actions, discount_rewards]"
   ]
  }
 ],
 "metadata": {
  "kernelspec": {
   "display_name": "Python 3",
   "language": "python",
   "name": "python3"
  },
  "language_info": {
   "codemirror_mode": {
    "name": "ipython",
    "version": 3
   },
   "file_extension": ".py",
   "mimetype": "text/x-python",
   "name": "python",
   "nbconvert_exporter": "python",
   "pygments_lexer": "ipython3",
   "version": "3.6.6"
  },
  "latex_envs": {
   "LaTeX_envs_menu_present": true,
   "autoclose": false,
   "autocomplete": true,
   "bibliofile": "biblio.bib",
   "cite_by": "apalike",
   "current_citInitial": 1,
   "eqLabelWithNumbers": true,
   "eqNumInitial": 1,
   "hotkeys": {
    "equation": "Ctrl-E",
    "itemize": "Ctrl-I"
   },
   "labels_anchors": false,
   "latex_user_defs": false,
   "report_style_numbering": false,
   "user_envs_cfg": false
  },
  "toc": {
   "base_numbering": 1,
   "nav_menu": {},
   "number_sections": true,
   "sideBar": true,
   "skip_h1_title": false,
   "title_cell": "Table of Contents",
   "title_sidebar": "Contents",
   "toc_cell": false,
   "toc_position": {},
   "toc_section_display": true,
   "toc_window_display": false
  }
 },
 "nbformat": 4,
 "nbformat_minor": 2
}
